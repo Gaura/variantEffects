{
 "cells": [
  {
   "cell_type": "code",
   "execution_count": 2,
   "metadata": {},
   "outputs": [],
   "source": [
    "import pandas as pd\n",
    "import re"
   ]
  },
  {
   "cell_type": "code",
   "execution_count": 3,
   "metadata": {},
   "outputs": [],
   "source": [
    "gff = pd.read_table('sequence.gff3',skiprows=2,header=None)"
   ]
  },
  {
   "cell_type": "code",
   "execution_count": 4,
   "metadata": {},
   "outputs": [
    {
     "data": {
      "text/html": [
       "<div>\n",
       "<style scoped>\n",
       "    .dataframe tbody tr th:only-of-type {\n",
       "        vertical-align: middle;\n",
       "    }\n",
       "\n",
       "    .dataframe tbody tr th {\n",
       "        vertical-align: top;\n",
       "    }\n",
       "\n",
       "    .dataframe thead th {\n",
       "        text-align: right;\n",
       "    }\n",
       "</style>\n",
       "<table border=\"1\" class=\"dataframe\">\n",
       "  <thead>\n",
       "    <tr style=\"text-align: right;\">\n",
       "      <th></th>\n",
       "      <th>0</th>\n",
       "      <th>1</th>\n",
       "      <th>2</th>\n",
       "      <th>3</th>\n",
       "      <th>4</th>\n",
       "      <th>5</th>\n",
       "      <th>6</th>\n",
       "      <th>7</th>\n",
       "      <th>8</th>\n",
       "    </tr>\n",
       "  </thead>\n",
       "  <tbody>\n",
       "    <tr>\n",
       "      <th>0</th>\n",
       "      <td>KC207813.1</td>\n",
       "      <td>Genbank</td>\n",
       "      <td>region</td>\n",
       "      <td>1</td>\n",
       "      <td>171323</td>\n",
       "      <td>.</td>\n",
       "      <td>+</td>\n",
       "      <td>.</td>\n",
       "      <td>ID=KC207813.1:1..171323;Dbxref=taxon:10376;Is_...</td>\n",
       "    </tr>\n",
       "    <tr>\n",
       "      <th>1</th>\n",
       "      <td>KC207813.1</td>\n",
       "      <td>Genbank</td>\n",
       "      <td>gene</td>\n",
       "      <td>1691</td>\n",
       "      <td>5859</td>\n",
       "      <td>.</td>\n",
       "      <td>+</td>\n",
       "      <td>.</td>\n",
       "      <td>ID=gene-BNRF1;Name=BNRF1;gbkey=Gene;gene=BNRF1...</td>\n",
       "    </tr>\n",
       "    <tr>\n",
       "      <th>2</th>\n",
       "      <td>KC207813.1</td>\n",
       "      <td>Genbank</td>\n",
       "      <td>CDS</td>\n",
       "      <td>1736</td>\n",
       "      <td>5692</td>\n",
       "      <td>.</td>\n",
       "      <td>+</td>\n",
       "      <td>0</td>\n",
       "      <td>ID=cds-AFY97827.1;Parent=gene-BNRF1;Dbxref=NCB...</td>\n",
       "    </tr>\n",
       "    <tr>\n",
       "      <th>3</th>\n",
       "      <td>KC207813.1</td>\n",
       "      <td>Genbank</td>\n",
       "      <td>region</td>\n",
       "      <td>1691</td>\n",
       "      <td>1696</td>\n",
       "      <td>.</td>\n",
       "      <td>+</td>\n",
       "      <td>.</td>\n",
       "      <td>ID=id-BNRF1;gbkey=TATA_signal;gene=BNRF1</td>\n",
       "    </tr>\n",
       "    <tr>\n",
       "      <th>4</th>\n",
       "      <td>KC207813.1</td>\n",
       "      <td>Genbank</td>\n",
       "      <td>region</td>\n",
       "      <td>5844</td>\n",
       "      <td>5849</td>\n",
       "      <td>.</td>\n",
       "      <td>+</td>\n",
       "      <td>.</td>\n",
       "      <td>ID=id-KC207813.1:5844..5849;Note=LMP-2A%2C LMP...</td>\n",
       "    </tr>\n",
       "  </tbody>\n",
       "</table>\n",
       "</div>"
      ],
      "text/plain": [
       "            0        1       2     3       4  5  6  7  \\\n",
       "0  KC207813.1  Genbank  region     1  171323  .  +  .   \n",
       "1  KC207813.1  Genbank    gene  1691    5859  .  +  .   \n",
       "2  KC207813.1  Genbank     CDS  1736    5692  .  +  0   \n",
       "3  KC207813.1  Genbank  region  1691    1696  .  +  .   \n",
       "4  KC207813.1  Genbank  region  5844    5849  .  +  .   \n",
       "\n",
       "                                                   8  \n",
       "0  ID=KC207813.1:1..171323;Dbxref=taxon:10376;Is_...  \n",
       "1  ID=gene-BNRF1;Name=BNRF1;gbkey=Gene;gene=BNRF1...  \n",
       "2  ID=cds-AFY97827.1;Parent=gene-BNRF1;Dbxref=NCB...  \n",
       "3           ID=id-BNRF1;gbkey=TATA_signal;gene=BNRF1  \n",
       "4  ID=id-KC207813.1:5844..5849;Note=LMP-2A%2C LMP...  "
      ]
     },
     "execution_count": 4,
     "metadata": {},
     "output_type": "execute_result"
    }
   ],
   "source": [
    "gff.head()"
   ]
  },
  {
   "cell_type": "code",
   "execution_count": 5,
   "metadata": {},
   "outputs": [
    {
     "data": {
      "text/html": [
       "<div>\n",
       "<style scoped>\n",
       "    .dataframe tbody tr th:only-of-type {\n",
       "        vertical-align: middle;\n",
       "    }\n",
       "\n",
       "    .dataframe tbody tr th {\n",
       "        vertical-align: top;\n",
       "    }\n",
       "\n",
       "    .dataframe thead th {\n",
       "        text-align: right;\n",
       "    }\n",
       "</style>\n",
       "<table border=\"1\" class=\"dataframe\">\n",
       "  <thead>\n",
       "    <tr style=\"text-align: right;\">\n",
       "      <th></th>\n",
       "      <th>0</th>\n",
       "      <th>1</th>\n",
       "      <th>2</th>\n",
       "      <th>3</th>\n",
       "      <th>4</th>\n",
       "      <th>5</th>\n",
       "      <th>6</th>\n",
       "      <th>7</th>\n",
       "      <th>8</th>\n",
       "    </tr>\n",
       "  </thead>\n",
       "  <tbody>\n",
       "    <tr>\n",
       "      <th>1</th>\n",
       "      <td>KC207813.1</td>\n",
       "      <td>Genbank</td>\n",
       "      <td>gene</td>\n",
       "      <td>1691</td>\n",
       "      <td>5859</td>\n",
       "      <td>.</td>\n",
       "      <td>+</td>\n",
       "      <td>.</td>\n",
       "      <td>ID=gene-BNRF1;Name=BNRF1;gbkey=Gene;gene=BNRF1...</td>\n",
       "    </tr>\n",
       "    <tr>\n",
       "      <th>12</th>\n",
       "      <td>KC207813.1</td>\n",
       "      <td>Genbank</td>\n",
       "      <td>gene</td>\n",
       "      <td>9527</td>\n",
       "      <td>10158</td>\n",
       "      <td>.</td>\n",
       "      <td>+</td>\n",
       "      <td>.</td>\n",
       "      <td>ID=gene-BCRF1;Name=BCRF1;gbkey=Gene;gene=BCRF1...</td>\n",
       "    </tr>\n",
       "    <tr>\n",
       "      <th>16</th>\n",
       "      <td>KC207813.1</td>\n",
       "      <td>Genbank</td>\n",
       "      <td>gene</td>\n",
       "      <td>11201</td>\n",
       "      <td>97209</td>\n",
       "      <td>.</td>\n",
       "      <td>+</td>\n",
       "      <td>.</td>\n",
       "      <td>ID=gene-EBNA-1;Name=EBNA-1;gbkey=Gene;gene=EBN...</td>\n",
       "    </tr>\n",
       "    <tr>\n",
       "      <th>39</th>\n",
       "      <td>KC207813.1</td>\n",
       "      <td>Genbank</td>\n",
       "      <td>gene</td>\n",
       "      <td>11201</td>\n",
       "      <td>89141</td>\n",
       "      <td>.</td>\n",
       "      <td>+</td>\n",
       "      <td>.</td>\n",
       "      <td>ID=gene-EBNA-3B/EBNA-3C;Name=EBNA-3B/EBNA-3C;g...</td>\n",
       "    </tr>\n",
       "    <tr>\n",
       "      <th>88</th>\n",
       "      <td>KC207813.1</td>\n",
       "      <td>Genbank</td>\n",
       "      <td>gene</td>\n",
       "      <td>11201</td>\n",
       "      <td>82630</td>\n",
       "      <td>.</td>\n",
       "      <td>+</td>\n",
       "      <td>.</td>\n",
       "      <td>ID=gene-EBNA-3A;Name=EBNA-3A;gbkey=Gene;gene=E...</td>\n",
       "    </tr>\n",
       "  </tbody>\n",
       "</table>\n",
       "</div>"
      ],
      "text/plain": [
       "             0        1     2      3      4  5  6  7  \\\n",
       "1   KC207813.1  Genbank  gene   1691   5859  .  +  .   \n",
       "12  KC207813.1  Genbank  gene   9527  10158  .  +  .   \n",
       "16  KC207813.1  Genbank  gene  11201  97209  .  +  .   \n",
       "39  KC207813.1  Genbank  gene  11201  89141  .  +  .   \n",
       "88  KC207813.1  Genbank  gene  11201  82630  .  +  .   \n",
       "\n",
       "                                                    8  \n",
       "1   ID=gene-BNRF1;Name=BNRF1;gbkey=Gene;gene=BNRF1...  \n",
       "12  ID=gene-BCRF1;Name=BCRF1;gbkey=Gene;gene=BCRF1...  \n",
       "16  ID=gene-EBNA-1;Name=EBNA-1;gbkey=Gene;gene=EBN...  \n",
       "39  ID=gene-EBNA-3B/EBNA-3C;Name=EBNA-3B/EBNA-3C;g...  \n",
       "88  ID=gene-EBNA-3A;Name=EBNA-3A;gbkey=Gene;gene=E...  "
      ]
     },
     "execution_count": 5,
     "metadata": {},
     "output_type": "execute_result"
    }
   ],
   "source": [
    "gffGenes = gff.loc[gff.iloc[:,2] == 'gene',:]\n",
    "gffGenes.head()"
   ]
  },
  {
   "cell_type": "code",
   "execution_count": 6,
   "metadata": {},
   "outputs": [
    {
     "data": {
      "text/plain": [
       "[\"['ID=gene-BNRF1;Name=BNRF1;gbkey=Gene;gene=BNRF1;gene_biotype=protein_coding'\",\n",
       " \" 'ID=gene-BCRF1;Name=BCRF1;gbkey=Gene;gene=BCRF1;gene_biotype=protein_coding'\"]"
      ]
     },
     "execution_count": 6,
     "metadata": {},
     "output_type": "execute_result"
    }
   ],
   "source": [
    "lastCol = str(gffGenes.iloc[:,8].values).split('\\n')\n",
    "lastCol[0:2]"
   ]
  },
  {
   "cell_type": "code",
   "execution_count": 32,
   "metadata": {},
   "outputs": [
    {
     "data": {
      "text/plain": [
       "'BNRF1'"
      ]
     },
     "execution_count": 32,
     "metadata": {},
     "output_type": "execute_result"
    }
   ],
   "source": [
    "# Testing re to get gene name\n",
    "pattern = re.compile(r'gene-.+?;')\n",
    "match = pattern.search(lastCol[0])\n",
    "match.group()[5:-1]"
   ]
  },
  {
   "cell_type": "code",
   "execution_count": 33,
   "metadata": {},
   "outputs": [],
   "source": [
    "geneNames = []\n",
    "for i in range(gffGenes.shape[0]):\n",
    "    match = pattern.search(lastCol[i])\n",
    "    geneNames.append(match.group()[5:-1])"
   ]
  },
  {
   "cell_type": "code",
   "execution_count": 51,
   "metadata": {},
   "outputs": [
    {
     "name": "stderr",
     "output_type": "stream",
     "text": [
      "/home/gaurav/.local/lib/python3.7/site-packages/ipykernel_launcher.py:1: SettingWithCopyWarning: \n",
      "A value is trying to be set on a copy of a slice from a DataFrame.\n",
      "Try using .loc[row_indexer,col_indexer] = value instead\n",
      "\n",
      "See the caveats in the documentation: http://pandas.pydata.org/pandas-docs/stable/user_guide/indexing.html#returning-a-view-versus-a-copy\n",
      "  \"\"\"Entry point for launching an IPython kernel.\n"
     ]
    },
    {
     "data": {
      "text/html": [
       "<div>\n",
       "<style scoped>\n",
       "    .dataframe tbody tr th:only-of-type {\n",
       "        vertical-align: middle;\n",
       "    }\n",
       "\n",
       "    .dataframe tbody tr th {\n",
       "        vertical-align: top;\n",
       "    }\n",
       "\n",
       "    .dataframe thead th {\n",
       "        text-align: right;\n",
       "    }\n",
       "</style>\n",
       "<table border=\"1\" class=\"dataframe\">\n",
       "  <thead>\n",
       "    <tr style=\"text-align: right;\">\n",
       "      <th></th>\n",
       "      <th>0</th>\n",
       "      <th>1</th>\n",
       "      <th>2</th>\n",
       "      <th>3</th>\n",
       "      <th>4</th>\n",
       "      <th>5</th>\n",
       "      <th>6</th>\n",
       "      <th>7</th>\n",
       "      <th>8</th>\n",
       "      <th>geneNames</th>\n",
       "    </tr>\n",
       "  </thead>\n",
       "  <tbody>\n",
       "    <tr>\n",
       "      <th>1</th>\n",
       "      <td>KC207813.1</td>\n",
       "      <td>Genbank</td>\n",
       "      <td>gene</td>\n",
       "      <td>1691</td>\n",
       "      <td>5859</td>\n",
       "      <td>.</td>\n",
       "      <td>+</td>\n",
       "      <td>.</td>\n",
       "      <td>ID=gene-BNRF1;Name=BNRF1;gbkey=Gene;gene=BNRF1...</td>\n",
       "      <td>BNRF1</td>\n",
       "    </tr>\n",
       "    <tr>\n",
       "      <th>12</th>\n",
       "      <td>KC207813.1</td>\n",
       "      <td>Genbank</td>\n",
       "      <td>gene</td>\n",
       "      <td>9527</td>\n",
       "      <td>10158</td>\n",
       "      <td>.</td>\n",
       "      <td>+</td>\n",
       "      <td>.</td>\n",
       "      <td>ID=gene-BCRF1;Name=BCRF1;gbkey=Gene;gene=BCRF1...</td>\n",
       "      <td>BCRF1</td>\n",
       "    </tr>\n",
       "    <tr>\n",
       "      <th>16</th>\n",
       "      <td>KC207813.1</td>\n",
       "      <td>Genbank</td>\n",
       "      <td>gene</td>\n",
       "      <td>11201</td>\n",
       "      <td>97209</td>\n",
       "      <td>.</td>\n",
       "      <td>+</td>\n",
       "      <td>.</td>\n",
       "      <td>ID=gene-EBNA-1;Name=EBNA-1;gbkey=Gene;gene=EBN...</td>\n",
       "      <td>EBNA-1</td>\n",
       "    </tr>\n",
       "    <tr>\n",
       "      <th>39</th>\n",
       "      <td>KC207813.1</td>\n",
       "      <td>Genbank</td>\n",
       "      <td>gene</td>\n",
       "      <td>11201</td>\n",
       "      <td>89141</td>\n",
       "      <td>.</td>\n",
       "      <td>+</td>\n",
       "      <td>.</td>\n",
       "      <td>ID=gene-EBNA-3B/EBNA-3C;Name=EBNA-3B/EBNA-3C;g...</td>\n",
       "      <td>EBNA-3B/EBNA-3C</td>\n",
       "    </tr>\n",
       "    <tr>\n",
       "      <th>88</th>\n",
       "      <td>KC207813.1</td>\n",
       "      <td>Genbank</td>\n",
       "      <td>gene</td>\n",
       "      <td>11201</td>\n",
       "      <td>82630</td>\n",
       "      <td>.</td>\n",
       "      <td>+</td>\n",
       "      <td>.</td>\n",
       "      <td>ID=gene-EBNA-3A;Name=EBNA-3A;gbkey=Gene;gene=E...</td>\n",
       "      <td>EBNA-3A</td>\n",
       "    </tr>\n",
       "  </tbody>\n",
       "</table>\n",
       "</div>"
      ],
      "text/plain": [
       "             0        1     2      3      4  5  6  7  \\\n",
       "1   KC207813.1  Genbank  gene   1691   5859  .  +  .   \n",
       "12  KC207813.1  Genbank  gene   9527  10158  .  +  .   \n",
       "16  KC207813.1  Genbank  gene  11201  97209  .  +  .   \n",
       "39  KC207813.1  Genbank  gene  11201  89141  .  +  .   \n",
       "88  KC207813.1  Genbank  gene  11201  82630  .  +  .   \n",
       "\n",
       "                                                    8        geneNames  \n",
       "1   ID=gene-BNRF1;Name=BNRF1;gbkey=Gene;gene=BNRF1...            BNRF1  \n",
       "12  ID=gene-BCRF1;Name=BCRF1;gbkey=Gene;gene=BCRF1...            BCRF1  \n",
       "16  ID=gene-EBNA-1;Name=EBNA-1;gbkey=Gene;gene=EBN...           EBNA-1  \n",
       "39  ID=gene-EBNA-3B/EBNA-3C;Name=EBNA-3B/EBNA-3C;g...  EBNA-3B/EBNA-3C  \n",
       "88  ID=gene-EBNA-3A;Name=EBNA-3A;gbkey=Gene;gene=E...          EBNA-3A  "
      ]
     },
     "execution_count": 51,
     "metadata": {},
     "output_type": "execute_result"
    }
   ],
   "source": [
    "gffGenes['geneNames'] = geneNames\n",
    "gffGenes.head()"
   ]
  },
  {
   "cell_type": "code",
   "execution_count": 52,
   "metadata": {},
   "outputs": [],
   "source": [
    "gffGenes.to_csv('gffGenes.csv',sep='\\t')"
   ]
  },
  {
   "cell_type": "code",
   "execution_count": 53,
   "metadata": {},
   "outputs": [
    {
     "data": {
      "text/plain": [
       "'ID=gene-BNRF1;Name=BNRF1;gbkey=Gene;gene=BNRF1;gene_biotype=protein_coding'"
      ]
     },
     "execution_count": 53,
     "metadata": {},
     "output_type": "execute_result"
    }
   ],
   "source": [
    "gffGenes.iloc[0,8]"
   ]
  }
 ],
 "metadata": {
  "kernelspec": {
   "display_name": "Python 3",
   "language": "python",
   "name": "python3"
  },
  "language_info": {
   "codemirror_mode": {
    "name": "ipython",
    "version": 3
   },
   "file_extension": ".py",
   "mimetype": "text/x-python",
   "name": "python",
   "nbconvert_exporter": "python",
   "pygments_lexer": "ipython3",
   "version": "3.7.3"
  }
 },
 "nbformat": 4,
 "nbformat_minor": 4
}
